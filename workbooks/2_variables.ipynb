{
  "nbformat": 4,
  "nbformat_minor": 0,
  "metadata": {
    "colab": {
      "provenance": [],
      "toc_visible": true,
      "authorship_tag": "ABX9TyOkbE14+4eaNc6kwaEDVhia",
      "include_colab_link": true
    },
    "kernelspec": {
      "name": "python3",
      "display_name": "Python 3"
    },
    "language_info": {
      "name": "python"
    }
  },
  "cells": [
    {
      "cell_type": "markdown",
      "metadata": {
        "id": "view-in-github",
        "colab_type": "text"
      },
      "source": [
        "<a href=\"https://colab.research.google.com/github/chefs-kiss/cs1_spring2025/blob/main/2_variables.ipynb\" target=\"_parent\"><img src=\"https://colab.research.google.com/assets/colab-badge.svg\" alt=\"Open In Colab\"/></a>"
      ]
    },
    {
      "cell_type": "markdown",
      "source": [
        "# Warm-up\n",
        "\n",
        "Finish flowchart and print exercises from algorithms workbook\n"
      ],
      "metadata": {
        "id": "OyZwyPRHThXJ"
      }
    },
    {
      "cell_type": "markdown",
      "source": [
        "# Discussion: Apple Orchards and Operators\n",
        "\n",
        "Diana is writing a program to help an apple orchard. She knows that the orchard gathered in total **42** apples this week, and then sold them in bags of **5**. She adds some calculations to her program that she thinks would be helpful for the orchard.\n",
        "\n",
        "1. 42 / 5 = 8.4\t\t    \n",
        "2. 42 // 5 = __\n",
        "3. 42 % 5 = __\n",
        "\n",
        "\n",
        "\n",
        "We've figured out that:\n",
        "1. 42 / 5 = 8.4, which is how many bags of apples there are in total.\n",
        "\n",
        "What is Diana calculating when she uses the // and % operators, and what is the context of that operator in terms of apples or bags of apples?\n"
      ],
      "metadata": {
        "id": "aOYgCu-Jd5Hn"
      }
    },
    {
      "cell_type": "markdown",
      "source": [],
      "metadata": {
        "id": "jaw3S2rtJB8T"
      }
    },
    {
      "cell_type": "markdown",
      "source": [
        "# Casting example\n",
        "\n",
        "The following code accompanies the casting section we see in the slide deck"
      ],
      "metadata": {
        "id": "sSsfPH7Ivf23"
      }
    },
    {
      "cell_type": "code",
      "source": [
        "print(\"float(5) =\", float(5))\n",
        "print(\"int(3.14) =\", int(3.14))\n",
        "print(\"int(3.9) =\", int(3.9))\n",
        "print(\"int(7/4) =\", int(7/4))\n",
        "print(\"float(7//4) =\", float(7//4))"
      ],
      "metadata": {
        "colab": {
          "base_uri": "https://localhost:8080/"
        },
        "id": "D8SkY98sX0J9",
        "outputId": "39f25b32-6794-4c24-eb7f-b21cf952c586"
      },
      "execution_count": null,
      "outputs": [
        {
          "output_type": "stream",
          "name": "stdout",
          "text": [
            "float(5) = 5.0\n",
            "int(3.14) = 3\n",
            "int(3.9) = 3\n",
            "int(7/4) = 1\n",
            "float(7//4) = 1.0\n"
          ]
        }
      ]
    },
    {
      "cell_type": "markdown",
      "source": [
        "\n",
        "\n",
        "---\n",
        "\n",
        "\n",
        "# Discussion: Predict the Output\n",
        "\n",
        "Use the order of precedence for operators to find the following values:\n",
        "1. `(1+2)**3`\n",
        "2. `4 + 3 / 8`\n",
        "3. `int((4+3)/2)`\n",
        "4. `float(19//5)`\n",
        "5. `3*(1//3)`\n",
        "6. `1/3`\n",
        "7. `1.2 - 1`"
      ],
      "metadata": {
        "id": "CPerss_7U-xQ"
      }
    },
    {
      "cell_type": "markdown",
      "source": [
        "Initial guesses:\n",
        "\n",
        "1.\n",
        "\n",
        "2.\n",
        "\n",
        "3.\n",
        "\n",
        "4.\n",
        "\n",
        "5.\n",
        "\n",
        "6.\n",
        "\n",
        "7.\n",
        "\n",
        "Once you have a guess, try evaluating a few in the code chunk below:"
      ],
      "metadata": {
        "id": "jazCzrt7JiHb"
      }
    },
    {
      "cell_type": "code",
      "source": [],
      "metadata": {
        "id": "Uey27CR__Xfl"
      },
      "execution_count": null,
      "outputs": []
    },
    {
      "cell_type": "markdown",
      "source": [
        "# Enter a Number example\n",
        "\n",
        "The following code accompanies the input + printing section we see in the slide deck"
      ],
      "metadata": {
        "id": "25CLvk-PCpUQ"
      }
    },
    {
      "cell_type": "code",
      "source": [
        "number = int(input(\"Enter a whole number: \"))\n",
        "squared = number ** 2\n",
        "print(\"The square of\", str(number), \"is\", str(squared))"
      ],
      "metadata": {
        "colab": {
          "base_uri": "https://localhost:8080/"
        },
        "id": "MIh8s3so-tzO",
        "outputId": "ab90c0cb-df60-4dec-a8e5-5375898f6327"
      },
      "execution_count": null,
      "outputs": [
        {
          "output_type": "stream",
          "name": "stdout",
          "text": [
            "Enter a whole number: 2\n",
            "The square of 2 is 4\n"
          ]
        }
      ]
    },
    {
      "cell_type": "code",
      "source": [
        "print(f\"The square of {number} is {squared}\")"
      ],
      "metadata": {
        "colab": {
          "base_uri": "https://localhost:8080/"
        },
        "id": "zqzaMbHpC3mn",
        "outputId": "835ff86e-b44b-4f0c-f18f-44377d367be8"
      },
      "execution_count": null,
      "outputs": [
        {
          "output_type": "stream",
          "name": "stdout",
          "text": [
            "The square of 2 is 4\n"
          ]
        }
      ]
    },
    {
      "cell_type": "markdown",
      "source": [
        "---\n",
        "\n",
        "\n",
        "# Concept Checks\n",
        "\n",
        "These are meant to test (very informally) how the concepts stuck during the lecture. Chat about each question with a partner without looking back at the material. After chatting, beef up your initial answers by revisiting the notes or textbook.\n",
        "\n"
      ],
      "metadata": {
        "id": "0QDRYiz9R1SC"
      }
    },
    {
      "cell_type": "markdown",
      "source": [
        "\n",
        "\n",
        "## Namespace and Objectspace\n",
        "\n",
        "Using at the code below, fill in the rest of the following (double-click to edit):\n",
        "\n",
        "namespace --> objectspace\n",
        "\n",
        "1. a --> 4\n",
        "\n",
        "2. __ --> __\n",
        "\n",
        "3. __ --> __"
      ],
      "metadata": {
        "id": "EWdTykERUS7V"
      }
    },
    {
      "cell_type": "code",
      "source": [
        "a = 4\n",
        "b = a + a\n",
        "a = b *4"
      ],
      "metadata": {
        "id": "rKL98dWLts0a"
      },
      "execution_count": null,
      "outputs": []
    },
    {
      "cell_type": "markdown",
      "source": [
        "To check your work, add a print statement to see the final value of `a`"
      ],
      "metadata": {
        "id": "6BUbH5aEt5qU"
      }
    },
    {
      "cell_type": "markdown",
      "source": [
        "## Variable Types and Naming\n"
      ],
      "metadata": {
        "id": "M9oi4I3-fgqa"
      }
    },
    {
      "cell_type": "markdown",
      "source": [
        "First, add (ok) after any variables which are valid variable names.\n",
        "\n",
        "Secondly, for the valid variable names do the following:\n",
        "\n",
        "Bold any of the following variable names which follow good naming conventions.\n",
        "\n",
        "Italize any names which are not meaningful.\n",
        "\n",
        "\n",
        "1. ProfEss0r\n",
        "2. PROF!\n",
        "3. _prof2theMAX\n",
        "4. professorKim\n",
        "5. 2prof2furious\n",
        "6. prof_kim\n",
        "7. PROF$KIM\n",
        "8. p\n",
        "\n",
        "Write a brief reason for variables you made bold or italic."
      ],
      "metadata": {
        "id": "XOyli7tQybiM"
      }
    },
    {
      "cell_type": "markdown",
      "source": [
        "---\n",
        "# Exercises\n",
        "\n",
        "It may be helpful to draw out your program. Feel free to grab a sheet of paper, or grab a whiteboard marker and draw on the walls (they're whiteboards!)"
      ],
      "metadata": {
        "id": "rxQ0RkhRSFwq"
      }
    },
    {
      "cell_type": "markdown",
      "source": [
        "## Temperature Conversion Program\n",
        "\n",
        "We want a program that will convert temperatures from **C** to **F**. The steps for doing this are:\n",
        "1. Use the input function to get the temperature in **C** from the user, and store it in as a float in an appropriately named variable.\n",
        "2. Convert the **C** temperature to its **F** equivalent. The formula to convert C to F is: **9/5 C + 32**.\n",
        "3. Use print to provide the user with a message that tells them the temperature in C (that they provided) and what its equivalent temperature is in F.\n",
        "\n",
        "\n",
        "An example of running your program will produce the following first line for the user input (user enters 0) and the second line as the output:\n",
        "\n",
        "`What is the temperature in C: 0`\n",
        "\n",
        "`0C is 32F.`\n",
        "\n",
        "\n",
        "Once you have a program that works, try to make it more efficient by using only one variable and only two lines of code."
      ],
      "metadata": {
        "id": "Ey8KhOM1AKy5"
      }
    },
    {
      "cell_type": "code",
      "source": [
        "#your code here\n",
        "\n",
        "\n"
      ],
      "metadata": {
        "id": "1CudEaW3CPaX"
      },
      "execution_count": null,
      "outputs": []
    },
    {
      "cell_type": "markdown",
      "source": [
        "## The Year You Turn 100\n",
        "\n",
        "Write a program that prompts the user to enter their age and the current year. It then displays the year they will turn 100.\n",
        "\n",
        "An example of executing this program is given below:\n",
        "\n",
        "`What is your age? 30`\n",
        "\n",
        "`What year is it? 2024`\n",
        "\n",
        "`You will turn 100 in the year 2094`"
      ],
      "metadata": {
        "id": "0CE6N6X1ATwt"
      }
    },
    {
      "cell_type": "code",
      "source": [
        "#your code here"
      ],
      "metadata": {
        "id": "BdpZvkBu2_Fi"
      },
      "execution_count": null,
      "outputs": []
    }
  ]
}